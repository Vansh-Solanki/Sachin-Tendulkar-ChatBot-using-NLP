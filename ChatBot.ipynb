{
 "cells": [
  {
   "cell_type": "code",
   "execution_count": 1,
   "id": "f5b6875d",
   "metadata": {},
   "outputs": [],
   "source": [
    "# !pip install --upgrade pip\n",
    "# !pip install --upgrade nltk"
   ]
  },
  {
   "cell_type": "code",
   "execution_count": 2,
   "id": "8f959550",
   "metadata": {},
   "outputs": [
    {
     "name": "stderr",
     "output_type": "stream",
     "text": [
      "[nltk_data] Downloading package omw-1.4 to\n",
      "[nltk_data]     C:\\Users\\Vansh\\AppData\\Roaming\\nltk_data...\n",
      "[nltk_data]   Package omw-1.4 is already up-to-date!\n"
     ]
    }
   ],
   "source": [
    "import numpy as np\n",
    "import nltk\n",
    "nltk.download('omw-1.4')\n",
    "import random\n",
    "import string"
   ]
  },
  {
   "cell_type": "code",
   "execution_count": 3,
   "id": "d94f17a4",
   "metadata": {},
   "outputs": [],
   "source": [
    "from nltk.corpus import stopwords"
   ]
  },
  {
   "cell_type": "code",
   "execution_count": 4,
   "id": "d0975317",
   "metadata": {},
   "outputs": [],
   "source": [
    "f=open(r\"C:\\Users\\Vansh\\Sachin Tendulkar Data for ChatBot.txt\",'r',errors='ignore')\n",
    "doc=f.read()\n",
    "doc=doc.lower()"
   ]
  },
  {
   "cell_type": "code",
   "execution_count": 5,
   "id": "f586e280",
   "metadata": {},
   "outputs": [
    {
     "name": "stderr",
     "output_type": "stream",
     "text": [
      "[nltk_data] Downloading package punkt to\n",
      "[nltk_data]     C:\\Users\\Vansh\\AppData\\Roaming\\nltk_data...\n",
      "[nltk_data]   Package punkt is already up-to-date!\n",
      "[nltk_data] Downloading package wordnet to\n",
      "[nltk_data]     C:\\Users\\Vansh\\AppData\\Roaming\\nltk_data...\n",
      "[nltk_data]   Package wordnet is already up-to-date!\n",
      "[nltk_data] Downloading package stopwords to\n",
      "[nltk_data]     C:\\Users\\Vansh\\AppData\\Roaming\\nltk_data...\n",
      "[nltk_data]   Package stopwords is already up-to-date!\n"
     ]
    },
    {
     "data": {
      "text/plain": [
       "True"
      ]
     },
     "execution_count": 5,
     "metadata": {},
     "output_type": "execute_result"
    }
   ],
   "source": [
    "nltk.download('punkt')\n",
    "nltk.download('wordnet')\n",
    "nltk.download('stopwords')"
   ]
  },
  {
   "cell_type": "code",
   "execution_count": 6,
   "id": "ae77d8b7",
   "metadata": {},
   "outputs": [],
   "source": [
    "sent_token=nltk.sent_tokenize(doc)\n",
    "word_token=nltk.word_tokenize(doc)"
   ]
  },
  {
   "cell_type": "code",
   "execution_count": 7,
   "id": "8cde581a",
   "metadata": {},
   "outputs": [
    {
     "data": {
      "text/plain": [
       "['sachin ramesh tendulkar br born 24 april 1973) is an indian former international cricketer who captained the indian national team.',\n",
       " 'nicknamed \"the little master\" and \"master blaster\", he is regarded as one of the greatest batsmen in the history of cricket.',\n",
       " 'he is the all-time highest run-scorer in both odi and test cricket with more than 18000 runs and 15000 runs respectively in total.']"
      ]
     },
     "execution_count": 7,
     "metadata": {},
     "output_type": "execute_result"
    }
   ],
   "source": [
    "sent_token[:3]"
   ]
  },
  {
   "cell_type": "code",
   "execution_count": 8,
   "id": "f4248797",
   "metadata": {},
   "outputs": [
    {
     "data": {
      "text/plain": [
       "['sachin', 'ramesh', 'tendulkar', 'br', 'born']"
      ]
     },
     "execution_count": 8,
     "metadata": {},
     "output_type": "execute_result"
    }
   ],
   "source": [
    "word_token[:5]"
   ]
  },
  {
   "cell_type": "code",
   "execution_count": 9,
   "id": "a959f34a",
   "metadata": {},
   "outputs": [],
   "source": [
    "lemm=nltk.stem.WordNetLemmatizer()\n",
    "def LemToken(tokens):\n",
    "    return [lemm.lemmatize(token) for token in tokens]\n",
    "remove_punct_dict=dict((ord(punct),None)for punct in string.punctuation)\n",
    "def LemNormalize(text):\n",
    "    return LemToken(nltk.word_tokenize(text.lower().translate(remove_punct_dict)))"
   ]
  },
  {
   "cell_type": "code",
   "execution_count": 10,
   "id": "f5de0537",
   "metadata": {},
   "outputs": [],
   "source": [
    "greet_in=(\"hello\",\"hi\",\"greetings\",\"hey\",\"what's up\",\"heyo\")\n",
    "greet_out=[\"Hello\",\"Hi\",\"Greetings\",\"Hey\",\"What's up\",\"Heyo\",\"I am glad you are talking to me\",\"Hi there\"]\n",
    "def greet(sentences):\n",
    "    for word in sentences.split():\n",
    "        if word.lower() in greet_in:\n",
    "            return random.choice(greet_out)"
   ]
  },
  {
   "cell_type": "code",
   "execution_count": 11,
   "id": "a0752782",
   "metadata": {},
   "outputs": [],
   "source": [
    "from sklearn.feature_extraction.text import TfidfVectorizer\n",
    "from sklearn.metrics.pairwise import cosine_similarity"
   ]
  },
  {
   "cell_type": "code",
   "execution_count": 12,
   "id": "54fa48e2",
   "metadata": {},
   "outputs": [],
   "source": [
    "# nltk.data.path"
   ]
  },
  {
   "cell_type": "code",
   "execution_count": 13,
   "id": "eaea49d9",
   "metadata": {},
   "outputs": [],
   "source": [
    "# stop_words = set(stopwords.words('english'))"
   ]
  },
  {
   "cell_type": "code",
   "execution_count": 14,
   "id": "7c35d109",
   "metadata": {},
   "outputs": [],
   "source": [
    "def response(user_response):\n",
    "    robo1_response=''\n",
    "#     stop_words = stop_words.words('english',\"C:\\stopwords\")\n",
    "    TfidfVec=TfidfVectorizer(tokenizer=LemNormalize,stop_words='english')\n",
    "    Tfidf=TfidfVec.fit_transform(sent_token)\n",
    "    vals=cosine_similarity(Tfidf[-1],Tfidf)\n",
    "    idx=vals.argsort()[0][-2]\n",
    "    flat=vals.flatten()\n",
    "    flat.sort()\n",
    "    req_Tfidf=flat[-2]\n",
    "    if(req_Tfidf)==0:\n",
    "        robo1_response=robo1_response + \"I am sorry! I am unable to understand you\"\n",
    "        return robo1_response\n",
    "    else:\n",
    "        robo1_response=robo1_response+sent_token[idx]\n",
    "        return robo1_response"
   ]
  },
  {
   "cell_type": "code",
   "execution_count": null,
   "id": "fab8656c",
   "metadata": {},
   "outputs": [
    {
     "name": "stdout",
     "output_type": "stream",
     "text": [
      "Bot: My name is Echo.Let's have a conversation.Also if you want to exit just type Bye!\n",
      "You: hey\n",
      "BOT: Hi\n",
      "You: sachin tendulkar highest score\n",
      "BOT:  "
     ]
    },
    {
     "name": "stderr",
     "output_type": "stream",
     "text": [
      "C:\\Users\\Vansh\\anaconda3\\lib\\site-packages\\sklearn\\feature_extraction\\text.py:388: UserWarning: Your stop_words may be inconsistent with your preprocessing. Tokenizing the stop words generated tokens ['ha', 'le', 'u', 'wa'] not in stop_words.\n",
      "  warnings.warn('Your stop_words may be inconsistent with '\n"
     ]
    },
    {
     "name": "stdout",
     "output_type": "stream",
     "text": [
      "however, his highest score in the tests was 91; tendulkar averaged 34.12 in the series as england won 4â€“0 as they deposed india as the no.\n",
      "You: Sachin tendulkar family\n",
      "BOT:  isbn 978-0-14-302854-3[year needed]\n",
      "sachin tendulkar opus[year needed][clarification needed]\n",
      "the a to z of sachin tendulkar by gulu ezekiel.\n",
      "You: Sachin tendulkar centuries\n",
      "BOT:  [273] this century was not just a momentous occasion for tendulkar, but it was also his first odl century against bangladesh.\n"
     ]
    }
   ],
   "source": [
    "flag=True\n",
    "print(\"Bot: My name is Echo.Let's have a conversation.Also if you want to exit just type Bye!\")\n",
    "while(flag==True):\n",
    "    user_response=input(\"You: \")\n",
    "    user_response=user_response.lower()\n",
    "    if(user_response!='bye'):\n",
    "        if(user_response=='thanks' or user_response=='thank you'):\n",
    "            flag=False\n",
    "            print(\"BOT: You are welcome!\")\n",
    "        else:\n",
    "            if(greet(user_response)!=None):\n",
    "                print(\"BOT: \"+greet(user_response))\n",
    "            else:\n",
    "                sent_token.append(user_response)\n",
    "                word_token=word_token+nltk.word_tokenize(user_response)\n",
    "                final_words=list(set(word_token))\n",
    "                print(\"BOT: \",end=\" \")\n",
    "                print(response(user_response))\n",
    "                sent_token.remove(user_response)\n",
    "    else:\n",
    "        flag=False\n",
    "        print(\"BOT: Goodbye!Take care\")\n",
    "                "
   ]
  },
  {
   "cell_type": "code",
   "execution_count": null,
   "id": "a33980f4",
   "metadata": {},
   "outputs": [],
   "source": []
  }
 ],
 "metadata": {
  "kernelspec": {
   "display_name": "Python 3 (ipykernel)",
   "language": "python",
   "name": "python3"
  },
  "language_info": {
   "codemirror_mode": {
    "name": "ipython",
    "version": 3
   },
   "file_extension": ".py",
   "mimetype": "text/x-python",
   "name": "python",
   "nbconvert_exporter": "python",
   "pygments_lexer": "ipython3",
   "version": "3.9.7"
  }
 },
 "nbformat": 4,
 "nbformat_minor": 5
}
